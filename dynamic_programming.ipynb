{
 "nbformat": 4,
 "nbformat_minor": 2,
 "metadata": {
  "language_info": {
   "name": "python",
   "codemirror_mode": {
    "name": "ipython",
    "version": 3
   },
   "version": "3.6.5-final"
  },
  "orig_nbformat": 2,
  "file_extension": ".py",
  "mimetype": "text/x-python",
  "name": "python",
  "npconvert_exporter": "python",
  "pygments_lexer": "ipython3",
  "version": 3,
  "kernelspec": {
   "name": "python36564bitrootcondad68cb03c5fc74930ae2077ed862f9ffb",
   "display_name": "Python 3.6.5 64-bit ('root': conda)"
  }
 },
 "cells": [
  {
   "cell_type": "code",
   "execution_count": 1,
   "metadata": {},
   "outputs": [],
   "source": [
    "import time"
   ]
  },
  {
   "cell_type": "code",
   "execution_count": 2,
   "metadata": {},
   "outputs": [],
   "source": [
    "# arr = [5, 10, 25 ,1], aim = 1000\n",
    "# 计算可以组合的个数，每个面值可以重复使用多次"
   ]
  },
  {
   "cell_type": "code",
   "execution_count": 6,
   "metadata": {},
   "outputs": [
    {
     "name": "stdout",
     "output_type": "stream",
     "text": "142511 time used: 10.770132064819336\n"
    }
   ],
   "source": [
    "def count(arr, aim):\n",
    "    if arr==None or len(arr)==0 or aim<0:\n",
    "        return 0\n",
    "    return process(arr,0,aim)\n",
    "\n",
    "# 递归方程表示 arr[index,N-1] 的组合总数\n",
    "# 会有很多重复计算，比如：2张5元，0张10元；0张5元，1张10元；\n",
    "# 上述两种情况下，都需要继续求解 [25,1]组成990元的组合总数\n",
    "def process(arr,index,aim):\n",
    "    if index == len(arr):\n",
    "        if aim == 0:\n",
    "            return 1\n",
    "        return 0\n",
    "    res = 0\n",
    "    for i in range(aim // arr[index] +1):\n",
    "        res += process(arr, index+1, aim-i*arr[index])\n",
    "    return res\n",
    "\n",
    "arr = [5,10,25,1]\n",
    "aim = 1000\n",
    "\n",
    "t1 = time.time()\n",
    "res = count(arr,aim)\n",
    "print(res, 'time used:', time.time()-t1)"
   ]
  },
  {
   "cell_type": "code",
   "execution_count": 4,
   "metadata": {},
   "outputs": [
    {
     "data": {
      "text/plain": "(4, [[5, 5], [10], [1, 1, 1, 1, 1, 5], [1, 1, 1, 1, 1, 1, 1, 1, 1, 1]])"
     },
     "execution_count": 4,
     "metadata": {},
     "output_type": "execute_result"
    }
   ],
   "source": [
    "# 另外一种递归，回溯，可以找到所有的组合方法\n",
    "def count2(arr,aim):\n",
    "    res = 0\n",
    "    output = []\n",
    "    def helper(combine, remain):\n",
    "        nonlocal res\n",
    "        if remain == 0:\n",
    "            output.append(combine[:])\n",
    "            res += 1\n",
    "        for i in arr:\n",
    "            if i<=remain and (not combine or i>=combine[-1]):\n",
    "                combine.append(i)\n",
    "                helper(combine, remain-i)\n",
    "                combine.pop()\n",
    "    helper([],aim)\n",
    "    return res, output\n",
    "\n",
    "aim = 10\n",
    "# 为了计算速度和展示方便，取了aim=10\n",
    "res, output = count2(arr, aim)\n",
    "res, output"
   ]
  },
  {
   "cell_type": "code",
   "execution_count": 5,
   "metadata": {},
   "outputs": [],
   "source": [
    "# 上述 暴力搜索 -> 优化的记忆搜索\n",
    "# 大量重复计算的发生原因：每个递归过程的结果没有记录下来\n",
    "# 引入map存储中间结果"
   ]
  },
  {
   "cell_type": "code",
   "execution_count": 24,
   "metadata": {},
   "outputs": [
    {
     "name": "stdout",
     "output_type": "stream",
     "text": "134235101 time used: 4.076343059539795\n"
    }
   ],
   "source": [
    "def count3(arr,aim):\n",
    "    if arr == None or len(arr)==0 or aim<0:\n",
    "        return 0\n",
    "    map = {}\n",
    "    def mem_process(index, aim):\n",
    "        if index == len(arr):\n",
    "            if aim == 0:\n",
    "                return 1\n",
    "            return 0\n",
    "        # 在递归之前，查询是否已经计算过\n",
    "        if (index, aim) in map:\n",
    "            return map[(index,aim)]\n",
    "        res = 0\n",
    "        for i in range(aim//arr[index]+1):\n",
    "            res += mem_process(index+1, aim-i*arr[index])\n",
    "        # 如果此次结果未保存，在map中保存\n",
    "        if (index,aim) not in map:\n",
    "            map[(index,aim)] = res\n",
    "        return res\n",
    "    \n",
    "    return mem_process(0, aim)\n",
    "\n",
    "t2 = time.time()\n",
    "res = count3(arr, 10000)\n",
    "print(res, 'time used:', time.time()-t2)"
   ]
  },
  {
   "cell_type": "code",
   "execution_count": 20,
   "metadata": {},
   "outputs": [],
   "source": [
    "# 动态规划方法\n",
    "# dp[i][j]表示使用arr[0...i]形成钱数j的组合总数"
   ]
  },
  {
   "cell_type": "code",
   "execution_count": 25,
   "metadata": {},
   "outputs": [
    {
     "name": "stdout",
     "output_type": "stream",
     "text": "134235101 time used: 13.603118896484375\n"
    }
   ],
   "source": [
    "# 复杂度 O(N * aim^2)\n",
    "def count4(arr,aim):\n",
    "    if arr==None or len(arr)==0 or aim<0:\n",
    "        return 0\n",
    "    dp = [[0]*(aim+1) for _ in range(len(arr))]\n",
    "    # 初始化\n",
    "    for i in range(len(arr)):\n",
    "        dp[i][0]=1\n",
    "    for i in range(arr[0],aim+1,arr[0]):\n",
    "        dp[0][i]=1\n",
    "    # dp\n",
    "    for i in range(1,len(arr)):\n",
    "        for j in range(1,aim+1):\n",
    "            for k in range(j//arr[i]+1):\n",
    "                dp[i][j]+=dp[i-1][j-k*arr[i]]\n",
    "    return dp[-1][-1]\n",
    "\n",
    "t3 = time.time()\n",
    "res = count4(arr,10000)\n",
    "print(res, 'time used:',time.time()-t3)"
   ]
  },
  {
   "cell_type": "code",
   "execution_count": 26,
   "metadata": {},
   "outputs": [],
   "source": [
    "# 记忆搜索方法与动态规划方法的联系\n",
    "# 1. 记忆化搜索方法就是某种形态的动态规划方法\n",
    "# 2. 记忆化搜索方法不关心到达某一递归过程的路径，只是单纯地对计算过的递归过程进行记录，避免重复的递归过程\n",
    "# 3. 动态规划方法则是规定好每一个递归过程的计算顺序，依次进行计算，后面的计算过程严格依赖前面的计算过程\n",
    "# 4. 两者都是空间换时间的方法，也都有枚举的过程，区别就在于动态规划规定计算顺序，而记忆搜索不用规定"
   ]
  },
  {
   "cell_type": "code",
   "execution_count": 27,
   "metadata": {},
   "outputs": [],
   "source": [
    "# dp可以再优化\n",
    "# dp[i][j] = dp[i][j-arr[i]] + dp[i-1][j]"
   ]
  },
  {
   "cell_type": "code",
   "execution_count": 28,
   "metadata": {},
   "outputs": [
    {
     "name": "stdout",
     "output_type": "stream",
     "text": "134235101 time used: 0.022294998168945312\n"
    }
   ],
   "source": [
    "# 复杂度 O(N * aim)\n",
    "def count5(arr,aim):\n",
    "    if arr==None or len(arr)==0 or aim<0:\n",
    "        return 0\n",
    "    dp = [[0]*(aim+1) for _ in range(len(arr))]\n",
    "    # 初始化\n",
    "    for i in range(len(arr)):\n",
    "        dp[i][0]=1\n",
    "    for i in range(arr[0],aim+1,arr[0]):\n",
    "        dp[0][i]=1\n",
    "    # dp\n",
    "    for i in range(1,len(arr)):\n",
    "        for j in range(1,aim+1):\n",
    "            dp[i][j] = dp[i][j-arr[i]] + dp[i-1][j]\n",
    "    return dp[-1][-1]\n",
    "\n",
    "t4 = time.time()\n",
    "res = count5(arr,10000)\n",
    "print(res, 'time used:',time.time()-t4)"
   ]
  }
 ]
}